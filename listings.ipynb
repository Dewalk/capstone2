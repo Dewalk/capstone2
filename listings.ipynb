{
 "cells": [
  {
   "cell_type": "code",
   "execution_count": 1,
   "metadata": {},
   "outputs": [],
   "source": [
    "import numpy as np\n",
    "import pandas as pd\n",
    "import matplotlib.pyplot as plt\n",
    "import seaborn as sns\n",
    "from datetime import datetime, date, time"
   ]
  },
  {
   "cell_type": "code",
   "execution_count": 2,
   "metadata": {},
   "outputs": [],
   "source": [
    "df = pd.read_csv('/Users/galvanize/Documents/capstone2/DATA/listings.csv.gz')"
   ]
  },
  {
   "cell_type": "code",
   "execution_count": 5,
   "metadata": {},
   "outputs": [],
   "source": [
    "listings_df = df[['id','host_id','is_location_exact','property_type','room_type','accommodates','bathrooms','bedrooms','price','weekly_price','monthly_price','minimum_nights','maximum_nights','guests_included','availability_30','availability_60','availability_90','availability_365','requires_license','jurisdiction_names']]"
   ]
  },
  {
   "cell_type": "code",
   "execution_count": 6,
   "metadata": {},
   "outputs": [
    {
     "name": "stdout",
     "output_type": "stream",
     "text": [
      "<class 'pandas.core.frame.DataFrame'>\n",
      "RangeIndex: 2387 entries, 0 to 2386\n",
      "Data columns (total 20 columns):\n",
      " #   Column              Non-Null Count  Dtype  \n",
      "---  ------              --------------  -----  \n",
      " 0   id                  2387 non-null   int64  \n",
      " 1   host_id             2387 non-null   int64  \n",
      " 2   is_location_exact   2387 non-null   object \n",
      " 3   property_type       2387 non-null   object \n",
      " 4   room_type           2387 non-null   object \n",
      " 5   accommodates        2387 non-null   int64  \n",
      " 6   bathrooms           2387 non-null   float64\n",
      " 7   bedrooms            2387 non-null   int64  \n",
      " 8   price               2387 non-null   object \n",
      " 9   weekly_price        207 non-null    object \n",
      " 10  monthly_price       178 non-null    object \n",
      " 11  minimum_nights      2387 non-null   int64  \n",
      " 12  maximum_nights      2387 non-null   int64  \n",
      " 13  guests_included     2387 non-null   int64  \n",
      " 14  availability_30     2387 non-null   int64  \n",
      " 15  availability_60     2387 non-null   int64  \n",
      " 16  availability_90     2387 non-null   int64  \n",
      " 17  availability_365    2387 non-null   int64  \n",
      " 18  requires_license    2387 non-null   object \n",
      " 19  jurisdiction_names  2387 non-null   object \n",
      "dtypes: float64(1), int64(11), object(8)\n",
      "memory usage: 373.1+ KB\n"
     ]
    }
   ],
   "source": [
    "listings_df.info()"
   ]
  },
  {
   "cell_type": "code",
   "execution_count": 7,
   "metadata": {},
   "outputs": [
    {
     "name": "stderr",
     "output_type": "stream",
     "text": [
      "/Users/galvanize/miniconda3/lib/python3.7/site-packages/ipykernel_launcher.py:1: SettingWithCopyWarning: \n",
      "A value is trying to be set on a copy of a slice from a DataFrame.\n",
      "Try using .loc[row_indexer,col_indexer] = value instead\n",
      "\n",
      "See the caveats in the documentation: https://pandas.pydata.org/pandas-docs/stable/user_guide/indexing.html#returning-a-view-versus-a-copy\n",
      "  \"\"\"Entry point for launching an IPython kernel.\n",
      "/Users/galvanize/miniconda3/lib/python3.7/site-packages/ipykernel_launcher.py:2: SettingWithCopyWarning: \n",
      "A value is trying to be set on a copy of a slice from a DataFrame.\n",
      "Try using .loc[row_indexer,col_indexer] = value instead\n",
      "\n",
      "See the caveats in the documentation: https://pandas.pydata.org/pandas-docs/stable/user_guide/indexing.html#returning-a-view-versus-a-copy\n",
      "  \n"
     ]
    }
   ],
   "source": [
    "listings_df['host_id'] =  listings_df['host_id'].astype('str')\n",
    "listings_df['id'] =  listings_df['id'].astype('str')"
   ]
  },
  {
   "cell_type": "code",
   "execution_count": 8,
   "metadata": {},
   "outputs": [
    {
     "name": "stdout",
     "output_type": "stream",
     "text": [
      "<class 'pandas.core.frame.DataFrame'>\n",
      "RangeIndex: 2387 entries, 0 to 2386\n",
      "Data columns (total 20 columns):\n",
      " #   Column              Non-Null Count  Dtype  \n",
      "---  ------              --------------  -----  \n",
      " 0   id                  2387 non-null   object \n",
      " 1   host_id             2387 non-null   object \n",
      " 2   is_location_exact   2387 non-null   object \n",
      " 3   property_type       2387 non-null   object \n",
      " 4   room_type           2387 non-null   object \n",
      " 5   accommodates        2387 non-null   int64  \n",
      " 6   bathrooms           2387 non-null   float64\n",
      " 7   bedrooms            2387 non-null   int64  \n",
      " 8   price               2387 non-null   object \n",
      " 9   weekly_price        207 non-null    object \n",
      " 10  monthly_price       178 non-null    object \n",
      " 11  minimum_nights      2387 non-null   int64  \n",
      " 12  maximum_nights      2387 non-null   int64  \n",
      " 13  guests_included     2387 non-null   int64  \n",
      " 14  availability_30     2387 non-null   int64  \n",
      " 15  availability_60     2387 non-null   int64  \n",
      " 16  availability_90     2387 non-null   int64  \n",
      " 17  availability_365    2387 non-null   int64  \n",
      " 18  requires_license    2387 non-null   object \n",
      " 19  jurisdiction_names  2387 non-null   object \n",
      "dtypes: float64(1), int64(9), object(10)\n",
      "memory usage: 373.1+ KB\n"
     ]
    }
   ],
   "source": [
    "listings_df.info()"
   ]
  },
  {
   "cell_type": "code",
   "execution_count": 9,
   "metadata": {},
   "outputs": [
    {
     "data": {
      "text/plain": [
       "0        $50.00\n",
       "1       $765.00\n",
       "2        $75.00\n",
       "3       $107.00\n",
       "4        $71.00\n",
       "         ...   \n",
       "2382     $65.00\n",
       "2383    $305.00\n",
       "2384    $155.00\n",
       "2385    $225.00\n",
       "2386     $19.00\n",
       "Name: price, Length: 2387, dtype: object"
      ]
     },
     "execution_count": 9,
     "metadata": {},
     "output_type": "execute_result"
    }
   ],
   "source": [
    "listings_df['price']"
   ]
  },
  {
   "cell_type": "code",
   "execution_count": 10,
   "metadata": {},
   "outputs": [],
   "source": [
    "# listings_df.to_csv(r'listings_edited.csv')"
   ]
  },
  {
   "cell_type": "code",
   "execution_count": null,
   "metadata": {},
   "outputs": [],
   "source": []
  }
 ],
 "metadata": {
  "kernelspec": {
   "display_name": "Python 3",
   "language": "python",
   "name": "python3"
  },
  "language_info": {
   "codemirror_mode": {
    "name": "ipython",
    "version": 3
   },
   "file_extension": ".py",
   "mimetype": "text/x-python",
   "name": "python",
   "nbconvert_exporter": "python",
   "pygments_lexer": "ipython3",
   "version": "3.7.7"
  }
 },
 "nbformat": 4,
 "nbformat_minor": 4
}
